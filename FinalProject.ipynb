{
  "nbformat": 4,
  "nbformat_minor": 0,
  "metadata": {
    "colab": {
      "name": "FinalProject.ipynb",
      "provenance": [],
      "toc_visible": true,
      "authorship_tag": "ABX9TyMDXrwlq5HdQ5mCgSXA9a3W",
      "include_colab_link": true
    },
    "kernelspec": {
      "name": "python3",
      "display_name": "Python 3"
    },
    "accelerator": "GPU"
  },
  "cells": [
    {
      "cell_type": "markdown",
      "metadata": {
        "id": "view-in-github",
        "colab_type": "text"
      },
      "source": [
        "<a href=\"https://colab.research.google.com/github/trantoai1/FinalTestXLA/blob/master/FinalProject.ipynb\" target=\"_parent\"><img src=\"https://colab.research.google.com/assets/colab-badge.svg\" alt=\"Open In Colab\"/></a>"
      ]
    },
    {
      "cell_type": "code",
      "metadata": {
        "id": "PvBDy7mJz0w_",
        "colab_type": "code",
        "colab": {
          "base_uri": "https://localhost:8080/",
          "height": 51
        },
        "outputId": "180ae130-46f6-4613-8a73-e93c6855aaa4"
      },
      "source": [
        "!pip install scipy"
      ],
      "execution_count": 1,
      "outputs": [
        {
          "output_type": "stream",
          "text": [
            "Requirement already satisfied: scipy in /usr/local/lib/python3.6/dist-packages (1.4.1)\n",
            "Requirement already satisfied: numpy>=1.13.3 in /usr/local/lib/python3.6/dist-packages (from scipy) (1.18.2)\n"
          ],
          "name": "stdout"
        }
      ]
    },
    {
      "cell_type": "code",
      "metadata": {
        "id": "XDmnoRjh1VJz",
        "colab_type": "code",
        "colab": {
          "base_uri": "https://localhost:8080/",
          "height": 136
        },
        "outputId": "de27e6eb-4438-46f9-a750-b9a729fed09d"
      },
      "source": [
        "xs = [3, 1, 2] # Tạo 1 list\n",
        "print(xs, xs[2]) # Prints \"[3, 1, 2] 2\"\n",
        "hello = 'hello'\n",
        "world = \"world\"\n",
        "print(hello)\n",
        "print(len(hello)) # Độ dài chuỗi; prints \"5\" hw=hello+''+world #Nốichuỗibằngdấu+ print(hw) # prints \"hello world\"\n",
        "print(xs[-1]) \n",
        "xs[2] = 'foo' \n",
        "print(xs) \n",
        "xs.append('bar') \n",
        "print(xs)\n",
        "x = xs.pop()\n",
        "print(x, xs)"
      ],
      "execution_count": 5,
      "outputs": [
        {
          "output_type": "stream",
          "text": [
            "[3, 1, 2] 2\n",
            "hello\n",
            "5\n",
            "2\n",
            "[3, 1, 'foo']\n",
            "[3, 1, 'foo', 'bar']\n",
            "bar [3, 1, 'foo']\n"
          ],
          "name": "stdout"
        }
      ]
    },
    {
      "cell_type": "markdown",
      "metadata": {
        "id": "9Qc4-mFE0aSD",
        "colab_type": "text"
      },
      "source": [
        "# New Section"
      ]
    }
  ]
}